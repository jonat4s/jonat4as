# Boas Vindas
"""
Bem-vindo ao curso rápido de Python.

Este curso foi desenvolvido por Jônatas Tavares Andrade, visando ensinar e inserir
o aluno(a) na linguagem de programação.
"""

# Variáveis

"""
De maneira geral no Python atibuimos um valor a alguma variável.
Um exemplo para entendermos claramente isto é pensar que cada pessoa tem um nome,
nome é a váriavel e o valor é o nome da pessoa. 

Ex: nome = 'Jônatas'
"""

# Tipos de Variaveis

a = 3         # variável de número inteiro definido por número -> int
b = 4.4       # variável de número decimal definido por número + . + número-> float
c = 'Joana'   # variável de escrita definida por '' ou "" + nome + '' ou "" para fechar as áspas -> str
d = False, True     # variável chamada booleana que é definida por True ou False -> bool

# Para sabermos de que tipo é determinada variável podemos usar o comando type()
# Exemplo

nome = 'Aryana'
print(type(nome))

f = 25
print(type(f))

g = 20.0
print(type(g))

m = True
print(type(m))
