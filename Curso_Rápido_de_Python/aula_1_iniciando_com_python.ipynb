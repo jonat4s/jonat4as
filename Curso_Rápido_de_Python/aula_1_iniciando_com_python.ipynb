# Boas Vindas
"""
Bem-vindo ao curso rápido de Python.

Este curso foi desenvolvido por Jônatas Tavares Andrade, visando ensinar e inserir
o aluno(a) na linguagem de programação.
"""

# Recomendações

"""
Aqui algumas recomendações para as aulas:

1ª -> Use o Google Colab como ambiente de python para programar
2ª -> Pratique o que foi ensinado para melhor compreensão dos conceitos abordados
3ª -> Não se limite ao que foi dado! Sempre há mais a se explorar na internet.
"""

# Execute este comando
print('Hello Word!')
